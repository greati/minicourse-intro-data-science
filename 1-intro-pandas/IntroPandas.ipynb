{
 "cells": [
  {
   "cell_type": "markdown",
   "metadata": {},
   "source": [
    "# Pandas basics\n",
    "\n",
    "\n",
    "## Introduction\n",
    "\n",
    "Pandas is a library that unifies the most common workflows that data analysts and data scientists previously relied on many different libraries for. Pandas has quickly became an important tool in a data professional's toolbelt and is the most popular library for working with tabular data in Python. Tabular data is any data that can be represented as rows and columns. The CSV files we've worked with in previous missions are all examples of tabular data.\n",
    "\n",
    "To represent tabular data, Pandas uses a custom data structure called a DataFrame. A DataFrame is a highly efficient, 2-dimensional data structure that provides a suite of methods and attributes to quickly explore, analyze, and visualize data. The DataFrame is similar to the NumPy 2D array but adds support for many features that help you work with tabular data.\n",
    "\n",
    "One of the biggest advantages that Pandas has over NumPy is the **ability to store mixed data types** in rows and columns. Many tabular datasets contain a range of data types and Pandas DataFrames handle mixed data types effortlessly while NumPy doesn't. Pandas DataFrames **can also handle missing values gracefully** using a custom object, <span style=\"background-color: #F9EBEA; color:##C0392B\">NaN</span>, to represent those values. A common complaint with NumPy is its lack of an object to represent missing values and people end up having to find and replace these values manually. In addition, pandas DataFrames contain axis labels for both rows and columns and enable you to refer to elements in the dataframe more intuitively. Since many tabular datasets contain column titles, this means that dataframes preserve the metadata from the file around the data.\n",
    "\n",
    "## Our case study\n",
    "\n",
    "In this part of the course, you'll learn the basics of pandas while exploring a dataset from the [United States Department of Agriculture (USDA)](http://www.ars.usda.gov/Services/docs.htm?docid=8964). This dataset contains nutritional information on the most common foods Americans consume. Each column in the dataset shows a different attribute of the foods and each row describes a different food item.\n",
    "\n",
    "Here are some of the columns in the dataset:\n",
    "\n",
    "- <span style=\"background-color: #F9EBEA; color:##C0392B\">NBD_No</span> - unique id of the food.\n",
    "- <span style=\"background-color: #F9EBEA; color:##C0392B\">Shrt_Desc</span> - name of the food.\n",
    "- <span style=\"background-color: #F9EBEA; color:##C0392B\">Water_(g)</span> - water content in grams.\n",
    "- <span style=\"background-color: #F9EBEA; color:##C0392B\">Energ_Kcal</span> - energy measured in kilo-calories.\n",
    "- <span style=\"background-color: #F9EBEA; color:##C0392B\">Protein_(g)</span> - protein measured in grams.\n",
    "- <span style=\"background-color: #F9EBEA; color:##C0392B\">Cholestrl_(mg)</span> - cholesterol in milligrams.\n",
    "\n",
    "Here's a preview of the first few rows and columns in the dataset:\n",
    "\n",
    "<img width=\"1000\" alt=\"creating a repo\" src=\"https://drive.google.com/uc?export=view&id=0BxhVm1REqwr0dlZBSV9ORHpCMXc\">"
   ]
  },
  {
   "cell_type": "markdown",
   "metadata": {},
   "source": [
    "## First steps with pandas\n",
    "\n",
    "### Importing the library\n",
    "\n",
    "First of all, we need to import the **pandas** library into the environment. For that,\n",
    "we rely on the Python's keywords *import* and *as*:\n"
   ]
  },
  {
   "cell_type": "code",
   "execution_count": null,
   "metadata": {},
   "outputs": [],
   "source": [
    "import pandas as pd"
   ]
  },
  {
   "cell_type": "markdown",
   "metadata": {},
   "source": [
    "Now, we can refer to the library using the *pd* alias, calling any available function using\n",
    "the dot notation: *pd.some_method()*."
   ]
  },
  {
   "cell_type": "markdown",
   "metadata": {},
   "source": [
    "### Loading data from a CSV file\n",
    "\n",
    "Tabular data is commonly provided in a CSV file. In simple words, it contains table rows whose\n",
    "cells are separated by some token, like a comma or semicolon. Pandas provides the [read_csv()](http://pandas.pydata.org/pandas-docs/stable/generated/pandas.read_csv.html) function, which takes the path of the CSV file and produces a DataFrame representation of its data:"
   ]
  },
  {
   "cell_type": "code",
   "execution_count": null,
   "metadata": {},
   "outputs": [],
   "source": [
    "data = pd.read_csv(\"food_info.csv\")"
   ]
  },
  {
   "cell_type": "markdown",
   "metadata": {},
   "source": [
    "Now, *data* is a DataFrame containing the data provided by the CSV file."
   ]
  },
  {
   "cell_type": "markdown",
   "metadata": {},
   "source": [
    "### Exploring the dataframe\n",
    "\n",
    "Now that we've read the dataset into a DataFrame, we can start using the DataFrame methods to explore the data. To select the first 5 rows of a DataFrame, use the method [head()](http://pandas.pydata.org/pandas-docs/version/0.17.1/generated/pandas.DataFrame.head.html). When you call it, pandas will return a new DataFrame containing just the first 5 rows:"
   ]
  },
  {
   "cell_type": "code",
   "execution_count": null,
   "metadata": {},
   "outputs": [],
   "source": [
    "first_rows = data.head()\n",
    "first_rows"
   ]
  },
  {
   "cell_type": "markdown",
   "metadata": {},
   "source": [
    "If you peek at the [documentation](http://pandas.pydata.org/pandas-docs/version/0.17.1/generated/pandas.DataFrame.head.html), you'll notice that you can pass in an integer (<span style=\"background-color: #F9EBEA; color:##C0392B\">n</span>) into the <span style=\"background-color: #F9EBEA; color:##C0392B\">head()</span> method to display the first <span style=\"background-color: #F9EBEA; color:##C0392B\">n</span> rows instead of the first 5:\n",
    "\n",
    ">```python\n",
    "print(data.head(3))\n",
    "```\n",
    "\n",
    "Because this dataframe contains many columns and rows, pandas uses ellipsis (<span style=\"background-color: #F9EBEA; color:##C0392B\">...</span>) to hide the columns and rows in the middle. Only the first few and the last few columns and rows are displayed to conserve space.\n",
    "\n",
    "To access the full list of column names, use the <span style=\"background-color: #F9EBEA; color:##C0392B\">columns</span> attribute:"
   ]
  },
  {
   "cell_type": "code",
   "execution_count": null,
   "metadata": {},
   "outputs": [],
   "source": [
    "column_names = data.columns\n",
    "column_names"
   ]
  },
  {
   "cell_type": "markdown",
   "metadata": {},
   "source": [
    "Finally, you can use the <span style=\"background-color: #F9EBEA; color:##C0392B\">shape</span> attribute to understand the dimensions of the DataFrame. The <span style=\"background-color: #F9EBEA; color:##C0392B\">shape</span> attribute returns a tuple of integers representing the number of rows followed by the number of columns:"
   ]
  },
  {
   "cell_type": "code",
   "execution_count": null,
   "metadata": {},
   "outputs": [],
   "source": [
    "# Returns the tuple (8618,36) and assigns to `dimensions`.\n",
    "dimensions = data.shape\n",
    "# The number of rows, 8618.\n",
    "num_rows = dimensions[0]\n",
    "# The number of columns, 36.\n",
    "num_cols = dimensions[1]\n",
    "# Check the print\n",
    "dimensions"
   ]
  },
  {
   "cell_type": "markdown",
   "metadata": {},
   "source": [
    "## Basic concepts and operations in pandas\n",
    "\n",
    "### Indexing\n",
    "\n",
    "When you read in a file into a DataFrame, pandas uses the values in the first row (also known as the header) for the column labels and the row number for the row labels. Collectively, the labels are referred to as the **index**. DataFrames contain both a row index and a column index. Here's a diagram that displays some of the column and row labels for <span style=\"background-color: #F9EBEA; color:##C0392B\">data</span>:\n",
    "\n",
    "<img width=\"500\" alt=\"creating a repo\" src=\"https://drive.google.com/uc?export=view&id=0BxhVm1REqwr0SlNxZXdmM3dzUUU\">\n",
    "\n",
    "The labels allow us to refer to values in the DataFrame, which we'll learn more about in the rest of this notebook.\n",
    "\n",
    "### Series\n",
    "\n",
    "The **Series** object is a core data structure that pandas uses to represent rows and columns. A Series is a labelled collection of values similar to the NumPy vector. The main advantage of Series objects is the **ability to utilize non-integer labels**. NumPy arrays can only utilize integer labels for indexing.\n",
    "\n",
    "Pandas utilizes this feature to provide more context when returning a row or a column from a DataFrame. For example, when you select a row from a DataFrame, instead of just returning the values in that row as a list, pandas returns a Series object that contains the column labels as well as the corresponding values:\n",
    "\n",
    "<img width=\"500\" alt=\"creating a repo\" src=\"https://drive.google.com/uc?export=view&id=0BxhVm1REqwr0aUZ5c0FrQ0VNWFU\">\n",
    "\n",
    "The Series object representing the first row looks like:\n",
    "\n",
    "<img width=\"300\" alt=\"creating a repo\" src=\"https://drive.google.com/uc?export=view&id=0BxhVm1REqwr0Slg5TDdXNUt6V2M\">"
   ]
  },
  {
   "cell_type": "markdown",
   "metadata": {},
   "source": [
    "### Selecting a row\n",
    "\n",
    "While we use bracket notation to access elements in a NumPy array or a standard list, we need to use the pandas method [loc[]](http://pandas.pydata.org/pandas-docs/stable/indexing.html#indexing-label) to select rows in a DataFrame. The <span style=\"background-color: #F9EBEA; color:##C0392B\">loc[]</span> method allows you to select rows by row labels. Recall that when you read a file into a dataframe, pandas uses the row number (or position) as each row's label. Pandas uses zero-indexing, so the first row is at index 0, the second row at index 1, and so on.\n",
    "\n",
    "If you're interested in accessing a single row, pass in the row label to the <span style=\"background-color: #F9EBEA; color:##C0392B\">loc[]</span> method. Also, Python will return an error if you don't pass in a valid row label. For example, the following line takes the seventh row:"
   ]
  },
  {
   "cell_type": "code",
   "execution_count": null,
   "metadata": {},
   "outputs": [],
   "source": [
    "# Series object representing the seventh row.\n",
    "data.loc[6]"
   ]
  },
  {
   "cell_type": "markdown",
   "metadata": {},
   "source": [
    "When accessing an individual row, pandas returns a Series object containing the column names and that row's value for each column.\n",
    "\n",
    "### Data types\n",
    "\n",
    "When you displayed individual rows, represented as Series objects, you may have noticed the text <span style=\"background-color: #F9EBEA; color:##C0392B\">\"dtype: object\"</span> after the last value. <span style=\"background-color: #F9EBEA; color:##C0392B\">\"dtype: object\"</span> refers to the data type, or **dtype**, of that Series. The object dtype is equivalent to the string type in Python. Pandas borrows from the NumPy type system and contains the following dtypes:\n",
    "\n",
    "- <span style=\"background-color: #F9EBEA; color:##C0392B\">\"object\"</span> - for representing string values.\n",
    "- <span style=\"background-color: #F9EBEA; color:##C0392B\">\"int\"</span> - for representing integer values.\n",
    "- <span style=\"background-color: #F9EBEA; color:##C0392B\">\"float\"</span> - for representing float values.\n",
    "- <span style=\"background-color: #F9EBEA; color:##C0392B\">\"datatime\"</span> - for representing time values.\n",
    "- <span style=\"background-color: #F9EBEA; color:##C0392B\">\"bool\"</span> - for representing Boolean values.\n",
    "\n",
    "When reading a file into a DataFrame, pandas analyzes the values and infers each column's types. To access the types - for each column, use the <span style=\"background-color: #F9EBEA; color:##C0392B\">DataFrame.dtypes</span> attribute to return a Series containing each column name and its corresponding type. Read more about data types on the [Pandas documentation](http://pandas.pydata.org/pandas-docs/stable/basics.html#dtypes)."
   ]
  },
  {
   "cell_type": "code",
   "execution_count": null,
   "metadata": {},
   "outputs": [],
   "source": [
    "data.dtypes"
   ]
  },
  {
   "cell_type": "markdown",
   "metadata": {},
   "source": [
    "### Selecting Multiple Rows\n",
    "\n",
    "If you're interested in accessing multiple rows of the DataFrame, you can pass in either a slice of row labels or a list of row labels, and pandas will return a DataFrame. Note that unlike slicing lists in Python, a slice of a DataFrame using <span style=\"background-color: #F9EBEA; color:##C0392B\">.loc[]</span> will include both the start and the end row:"
   ]
  },
  {
   "cell_type": "code",
   "execution_count": null,
   "metadata": {},
   "outputs": [],
   "source": [
    "# DataFrame containing the rows at index 3, 4, 5, and 6 returned.\n",
    "data.loc[3:6]"
   ]
  },
  {
   "cell_type": "code",
   "execution_count": null,
   "metadata": {},
   "outputs": [],
   "source": [
    "# DataFrame containing the rows at index 2, 5, and 10 returned:\n",
    "data.loc[[2,5,10]]"
   ]
  },
  {
   "cell_type": "markdown",
   "metadata": {},
   "source": [
    "<br>\n",
    "<div class=\"alert alert-info\">\n",
    "<b>Exercise Start.</b>\n",
    "</div>\n",
    "\n",
    "**Description**:\n",
    "\n",
    "1. Select the last 5 rows of <span style=\"background-color: #F9EBEA; color:##C0392B\">food_info</span> and assign to the variable <span style=\"background-color: #F9EBEA; color:##C0392B\">last_rows</span>. #tips: use <span style=\"background-color: #F9EBEA; color:##C0392B\">.loc[]</span> method. "
   ]
  },
  {
   "cell_type": "markdown",
   "metadata": {},
   "source": [
    "### Selecting Individual Columns\n",
    "\n",
    "When accessing a column in a DataFrame, pandas returns a Series object containing the row label and each row's value for that column. To access a single column, use bracket notation and pass in the column name as a string:"
   ]
  },
  {
   "cell_type": "code",
   "execution_count": null,
   "metadata": {},
   "outputs": [],
   "source": [
    "# Series object representing the \"NDB_No\" column.\n",
    "data[\"NDB_No\"]"
   ]
  },
  {
   "cell_type": "markdown",
   "metadata": {},
   "source": [
    "<div class=\"alert alert-info\">\n",
    "<b>Exercise Start.</b>\n",
    "</div>\n",
    "\n",
    "**Description**:\n",
    "\n",
    "1. Assign the <span style=\"background-color: #F9EBEA; color:##C0392B\">\"FA\\_Sat\\_(g)\"</span> column to the variable <span style=\"background-color: #F9EBEA; color:##C0392B\">saturated_fat</span>.\n",
    "2. Assign the <span style=\"background-color: #F9EBEA; color:##C0392B\">\"Cholestrl\\_(mg)\"</span> column to the variable <span style=\"background-color: #F9EBEA; color:##C0392B\">cholesterol</span>."
   ]
  },
  {
   "cell_type": "markdown",
   "metadata": {},
   "source": [
    "### Selecting Multiple Columns By Name\n",
    "\n",
    "To select multiple columns, pass in a list of strings representing the column names and pandas will return a dataframe containing only the values in those columns. The following code returns a dataframe containing the <span style=\"background-color: #F9EBEA; color:##C0392B\">\"Zinc_(mg)\"</span> and <span style=\"background-color: #F9EBEA; color:##C0392B\">\"Copper_(mg)\"</span> columns, in that order:"
   ]
  },
  {
   "cell_type": "code",
   "execution_count": null,
   "metadata": {},
   "outputs": [],
   "source": [
    "data[[\"Zinc_(mg)\", \"Copper_(mg)\"]]"
   ]
  },
  {
   "cell_type": "markdown",
   "metadata": {},
   "source": [
    "When selecting multiple columns, the order of the columns in the returned DataFrame matches the order of the column names in the list of strings that you passed in. This allows you to easily explore specific columns that may not be positioned next to each other in the DataFrame."
   ]
  },
  {
   "cell_type": "markdown",
   "metadata": {},
   "source": [
    "<div class=\"alert alert-info\">\n",
    "<b>Exercise Start.</b>\n",
    "</div>\n",
    "\n",
    "**Description**: select and display only the columns that use grams for measurement (that end with <span style=\"background-color: #F9EBEA; color:##C0392B\">\"(g)\"</span>). To accomplish this:\n",
    "\n",
    "1. Use the <span style=\"background-color: #F9EBEA; color:##C0392B\">columns</span> attribute to return the column names in <span style=\"background-color: #F9EBEA; color:##C0392B\">food_info</span> and convert to a list by calling the method <span style=\"background-color: #F9EBEA; color:##C0392B\">tolist()</span>.\n",
    "2. Create a *new list*, <span style=\"background-color: #F9EBEA; color:##C0392B\">gram_columns</span>, containing only the column names that end in <span style=\"background-color: #F9EBEA; color:##C0392B\">\"(g)\"</span>. The string method <span style=\"background-color: #F9EBEA; color:##C0392B\">endswith()</span> returns <span style=\"background-color: #F9EBEA; color:##C0392B\">True</span> if the string object calling the method ends with the string passed into the parentheses.\n",
    "3. Pass <span style=\"background-color: #F9EBEA; color:##C0392B\">gram_columns</span> into bracket notation to select just those columns and assign the resulting dataframe to <span style=\"background-color: #F9EBEA; color:##C0392B\">gram_df</span>\n",
    "4. Then use the dataframe method <span style=\"background-color: #F9EBEA; color:##C0392B\">head()</span> to display the first 3 rows of <span style=\"background-color: #F9EBEA; color:##C0392B\">gram_df</span>"
   ]
  },
  {
   "cell_type": "markdown",
   "metadata": {},
   "source": [
    "## Data manipulation with Pandas\n",
    "\n",
    "### Overview\n",
    "\n",
    "In the previous sections, we learned how to explore a pandas <span style=\"background-color: #F9EBEA; color:##C0392B\">DataFrame</span>. In this mission, we'll explore how to manipulate a DataFrame and make transformations to it. We'll continue to work with the same data set from the USDA on nutritional information. We'll build a basic nutritional index for people who want to eat high-protein, low-fat foods. The <span style=\"background-color: #F9EBEA; color:##C0392B\">\"Lipid\\_Tot\\_(g)\"</span> column contains each food's total fat content, and the <span style=\"background-color: #F9EBEA; color:##C0392B\">\"Protein\\_(g)\"</span> (in grams) contains each food's total protein content (in grams). Let's use the following formula to score each food in our data set:\n",
    "\n",
    ">$$ \n",
    "Score = 2 \\times (Protein\\_(g)) - 0.75 \\times (Lipid\\_Tot\\_(g))\n",
    "$$\n",
    "\n",
    "While this formula is by no means scientific, it will act as a guide as we explore pandas further.\n",
    "\n",
    "Just to remember, here's a preview of the data set:\n",
    "\n",
    "<img width=\"1000\" alt=\"creating a repo\" src=\"https://drive.google.com/uc?export=view&id=0BxhVm1REqwr0dlZBSV9ORHpCMXc\">"
   ]
  },
  {
   "cell_type": "markdown",
   "metadata": {},
   "source": [
    "<br>\n",
    "<div class=\"alert alert-info\">\n",
    "<b>Exercise Start.</b>\n",
    "</div>\n",
    "\n",
    "**Description**: to practice what we learned in the previous sections:\n",
    "\n",
    ">1. Import the <span style=\"background-color: #F9EBEA; color:##C0392B\">pandas</span>\n",
    "2. Read <span style=\"background-color: #F9EBEA; color:##C0392B\">food_info.csv</span> into a DataFrame object named <span style=\"background-color: #F9EBEA; color:##C0392B\">food_info</span>.\n",
    "3. Use the <span style=\"background-color: #F9EBEA; color:##C0392B\">DataFrame.columns</span> attribute, followed by the <span style=\"background-color: #F9EBEA; color:##C0392B\">Index.tolist()</span> method, to return a list containing only the column names.\n",
    "4. Assign the resulting list to <span style=\"background-color: #F9EBEA; color:##C0392B\">col_names</span>, and use the print() function to display the value.\n",
    "5. Display the first three rows of <span style=\"background-color: #F9EBEA; color:##C0392B\">food_info.csv</span>."
   ]
  },
  {
   "cell_type": "markdown",
   "metadata": {},
   "source": [
    "### Transforming a column\n",
    "\n",
    "We can use the arithmetic operators to transform a numerical column. The values in the <span style=\"background-color: #F9EBEA; color:##C0392B\">\"Iron\\_(mg)\"</span> column, for example, are currently in milligrams. We can divide each value by <span style=\"background-color: #F9EBEA; color:##C0392B\">1000</span> to convert the values to grams. The following code will divide each value in the <span style=\"background-color: #F9EBEA; color:##C0392B\">\"Iron\\_(mg)\"</span> column by <span style=\"background-color: #F9EBEA; color:##C0392B\">1000</span>, and return a new Series object with those values:"
   ]
  },
  {
   "cell_type": "code",
   "execution_count": null,
   "metadata": {},
   "outputs": [],
   "source": [
    "div_1000 = data[\"Iron_(mg)\"] / 1000\n",
    "div_1000"
   ]
  },
  {
   "cell_type": "markdown",
   "metadata": {},
   "source": [
    "pandas allows us to use any of the arithmetic operators to scale the values in a numerical column:"
   ]
  },
  {
   "cell_type": "code",
   "execution_count": null,
   "metadata": {},
   "outputs": [],
   "source": [
    "# Adds 100 to each value in the column and returns a Series object.\n",
    "add_100 = data[\"Iron_(mg)\"] + 100\n",
    "# Subtracts 100 from each value in the column and returns a Series object.\n",
    "sub_100 = data[\"Iron_(mg)\"] - 100\n",
    "# Multiplies each value in the column by 2 and returns a Series object.\n",
    "mult_2 = data[\"Iron_(mg)\"]*2"
   ]
  },
  {
   "cell_type": "markdown",
   "metadata": {},
   "source": [
    "<div class=\"alert alert-info\">\n",
    "<b>Exercise Start.</b>\n",
    "</div>\n",
    "\n",
    "**Description**: \n",
    "\n",
    ">1. Divide the <span style=\"background-color: #F9EBEA; color:##C0392B\">\"Sodium_(mg)\"</span> column by 1000 to convert the values to grams, and assign the result to <span style=\"background-color: #F9EBEA; color:##C0392B\">sodium_grams</span>.\n",
    "2. Multiply the <span style=\"background-color: #F9EBEA; color:##C0392B\">\"Sugar\\_Tot\\_(g)\"</span> column by 1000 to convert to milligrams, and assign the result to <span style=\"background-color: #F9EBEA; color:##C0392B\">sugar_milligrams</span>."
   ]
  },
  {
   "cell_type": "markdown",
   "metadata": {},
   "source": [
    "### Performing math with multiple columns\n",
    "\n",
    "In addition to transforming columns by numerical values, we can transform columns by other columns. When we use an arithmetic operator between two columns (Series objects), pandas will perform that computation in a pair-wise fashion, and return a new Series object. It applies the arithmetic operator to the first value in both columns, the second value in both columns, and so on.\n",
    "\n",
    "In the following code, we multiply the <span style=\"background-color: #F9EBEA; color:##C0392B\">\"Water_(g)\"</span> column by the <span style=\"background-color: #F9EBEA; color:##C0392B\">\"Energ_Kcal\"</span> column, and assign the resulting Series to <span style=\"background-color: #F9EBEA; color:##C0392B\">water_energy</span>:"
   ]
  },
  {
   "cell_type": "code",
   "execution_count": null,
   "metadata": {},
   "outputs": [],
   "source": [
    "water_energy = data[\"Water_(g)\"] * data[\"Energ_Kcal\"]"
   ]
  },
  {
   "cell_type": "markdown",
   "metadata": {},
   "source": [
    "The following diagram may help you understand pair-wise computation a bit better:\n",
    "\n",
    "<img width=\"500\" alt=\"creating a repo\" src=\"https://drive.google.com/uc?export=view&id=0BxhVm1REqwr0cWxQZkI0c2IxemM\">"
   ]
  },
  {
   "cell_type": "markdown",
   "metadata": {},
   "source": [
    "<br>\n",
    "<div class=\"alert alert-info\">\n",
    "<b>Exercise Start.</b>\n",
    "</div>\n",
    "\n",
    "**Description**: \n",
    "\n",
    ">1. Assign the number of grams of protein per gram of water (<span style=\"background-color: #F9EBEA; color:##C0392B\">\"Protein\\_(g)\"</span> column divided by <span style=\"background-color: #F9EBEA; color:##C0392B\">\"Water\\_(g)\"</span> column) to <span style=\"background-color: #F9EBEA; color:##C0392B\">grams_of_protein_per_gram_of_water</span>.\n",
    "2. Assign the total amount of calcium and iron (<span style=\"background-color: #F9EBEA; color:##C0392B\">\"Calcium\\_(mg)\"</span> column plus <span style=\"background-color: #F9EBEA; color:##C0392B\">\"Iron\\_(mg)\"</span> column) to <span style=\"background-color: #F9EBEA; color:##C0392B\">milligrams\\_of\\_calcium\\_and\\_iron</span>."
   ]
  },
  {
   "cell_type": "markdown",
   "metadata": {},
   "source": [
    "### Create a nutritional index\n",
    "\n",
    "Now that we've learned how to transform columns with a numerical value and how to combine columns, we can use the following formula to create a nutritional index:\n",
    "\n",
    "$$ Score=2×(Protein\\_(g))−0.75×(Lipid\\_Tot\\_(g)) $$\n",
    "\n",
    "<div class=\"alert alert-info\">\n",
    "<b>Exercise Start.</b>\n",
    "</div>\n",
    "\n",
    "**Description**: \n",
    "\n",
    ">1. Multiply the <span style=\"background-color: #F9EBEA; color:##C0392B\">\"Protein\\_(g)\" </span> column by two, and assign the resulting Series to <span style=\"background-color: #F9EBEA; color:##C0392B\">weighted_protein</span>.\n",
    "2. Multiply the <span style=\"background-color: #F9EBEA; color:##C0392B\">\"Lipid\\_Tot\\_(g)\"</span> column by -0.75, and assign the resulting Series to <span style=\"background-color: #F9EBEA; color:##C0392B\">weighted_fat</span>.\n",
    "3. Add both Series objects together and assign the result to <span style=\"background-color: #F9EBEA; color:##C0392B\">initial_rating</span>."
   ]
  },
  {
   "cell_type": "markdown",
   "metadata": {},
   "source": [
    "### Normalize columns in a dataset\n",
    "\n",
    "The columns in the data set use different units (kilo-calories, milligrams, etc.). As a result, the range of values varies greatly between columns. For example, the <span style=\"background-color: #F9EBEA; color:##C0392B\">\"Vit\\_A\\_IU\"</span> column ranges from 0 to 100000, while the <span style=\"background-color: #F9EBEA; color:##C0392B\">\"Fiber\\_TD\\_(g)\"</span> column ranges from 0 to 79. For certain calculations, columns like <span style=\"background-color: #F9EBEA; color:##C0392B\">\"Vit_A_IU\"</span> can have a greater effect on the result, due to the scale of the values.\n",
    "\n",
    "While there are many ways to normalize data, one of the simplest ways is to divide all of the values in a column by that column's maximum value. This way, all of the columns will range from 0 to 1. To calculate the maximum value of a column, we use the <span style=\"background-color: #F9EBEA; color:##C0392B\">Series.max()</span> method. In the following code, we use the <span style=\"background-color: #F9EBEA; color:##C0392B\">Series.max()</span> method to calculate the largest value in the <span style=\"background-color: #F9EBEA; color:##C0392B\">\"Energ_Kcal\"</span> column, and assign it to <span style=\"background-color: #F9EBEA; color:##C0392B\">max_calories</span>:"
   ]
  },
  {
   "cell_type": "code",
   "execution_count": null,
   "metadata": {},
   "outputs": [],
   "source": [
    "# The largest value in the \"Energ_Kcal\" column.\n",
    "max_calories = data[\"Energ_Kcal\"].max()"
   ]
  },
  {
   "cell_type": "markdown",
   "metadata": {},
   "source": [
    "We can then use the division operator (<span style=\"background-color: #F9EBEA; color:##C0392B\">/</span>) to divide the values in the <span style=\"background-color: #F9EBEA; color:##C0392B\">\"Energ_Kcal\"</span> column by the maximum value, <span style=\"background-color: #F9EBEA; color:##C0392B\">max_calories</span>:"
   ]
  },
  {
   "cell_type": "code",
   "execution_count": null,
   "metadata": {},
   "outputs": [],
   "source": [
    "# Divide the values in \"Energ_Kcal\" by the largest value.\n",
    "normalized_calories = data[\"Energ_Kcal\"] / max_calories"
   ]
  },
  {
   "cell_type": "markdown",
   "metadata": {},
   "source": [
    "<div class=\"alert alert-info\">\n",
    "<b>Exercise Start.</b>\n",
    "</div>\n",
    "\n",
    "**Description**: \n",
    "\n",
    ">1. Normalize the values in the <span style=\"background-color: #F9EBEA; color:##C0392B\">\"Protein_(g)\"</span> column, and assign the result to <span style=\"background-color: #F9EBEA; color:##C0392B\">normalized_protein</span>.\n",
    "2. Normalize the values in the <span style=\"background-color: #F9EBEA; color:##C0392B\">\"Lipid\\_Tot\\_(g)\"</span> column, and assign the result to <span style=\"background-color: #F9EBEA; color:##C0392B\">normalized_fat</span>."
   ]
  },
  {
   "cell_type": "markdown",
   "metadata": {},
   "source": [
    "### Creating a new column\n",
    "\n",
    "So far, we've assigned the Series object that results from a column transform to a variable. However, we can add it to the DataFrame as a new column instead.\n",
    "\n",
    "We add bracket notation to specify the name we want for that column, then use the assignment operator (<span style=\"background-color: #F9EBEA; color:##C0392B\">=</span>) to specify the Series object containing the values we want to assign to that column:"
   ]
  },
  {
   "cell_type": "code",
   "execution_count": null,
   "metadata": {},
   "outputs": [],
   "source": [
    "iron_grams = data[\"Iron_(mg)\"] / 1000  \n",
    "data[\"Iron_(g)\"] = iron_grams"
   ]
  },
  {
   "cell_type": "markdown",
   "metadata": {},
   "source": [
    "The DataFrame <span style=\"background-color: #F9EBEA; color:##C0392B\">food\\_info</span> now includes the <span style=\"background-color: #F9EBEA; color:##C0392B\">\"Iron\\_(g)\"</span> column, which contains the values from <span style=\"background-color: #F9EBEA; color:##C0392B\">iron\\_grams</span>.\n",
    "\n",
    "<div class=\"alert alert-info\">\n",
    "<b>Exercise Start.</b>\n",
    "</div>\n",
    "\n",
    "**Description**: \n",
    "\n",
    ">1. Assign the normalized <span style=\"background-color: #F9EBEA; color:##C0392B\">\"Protein\\_(g)\"</span> column to a new column named <span style=\"background-color: #F9EBEA; color:##C0392B\">\"Normalized\\_Protein\"</span> in <span style=\"background-color: #F9EBEA; color:##C0392B\">food\\_info</span>.\n",
    "2. Assign the normalized <span style=\"background-color: #F9EBEA; color:##C0392B\">\"Lipid\\_Tot\\_(g)\"</span> column to a new column named <span style=\"background-color: #F9EBEA; color:##C0392B\">\"Normalized\\_Fat\"</span> in <span style=\"background-color: #F9EBEA; color:##C0392B\">food_info</span>.\n",
    "3. Use the <span style=\"background-color: #F9EBEA; color:##C0392B\">Normalized\\_Protein</span> and <span style=\"background-color: #F9EBEA; color:##C0392B\">Normalized\\_Fat</span> columns with the formula above (section 2.4) to create the <span style=\"background-color: #F9EBEA; color:##C0392B\">Norm\\_Nutr\\_Index</span> column."
   ]
  },
  {
   "cell_type": "markdown",
   "metadata": {},
   "source": [
    "### Sorting a dataframe by a column¶ \n",
    "\n",
    "The DataFrame currently appears in numerical order according to the NDB\\_No column. NDB\\_No is a unique USDA identifier that isn't really useful for our needs. To explore which foods rank the highest in the Norm\\_Nutr\\_Index column, we need to sort the DataFrame by that column. DataFrame objects have a sort_values() method that we can use to sort the entire DataFrame.\n",
    "\n",
    "To sort the DataFrame on the Sodium\\_(mg) column, pass in the column name to the DataFrame.sort_values() method, and assign the resulting DataFrame to a new variable:"
   ]
  },
  {
   "cell_type": "code",
   "execution_count": null,
   "metadata": {},
   "outputs": [],
   "source": [
    "data.sort_values(\"Sodium_(mg)\")"
   ]
  },
  {
   "cell_type": "markdown",
   "metadata": {},
   "source": [
    "By default, pandas will sort the data by the column we specify in ascending order and return a new DataFrame, rather than modifying <span style=\"background-color: #F9EBEA; color:##C0392B\">food_info</span> itself. To customize the method's behavior, use the parameters listed in the [documentation](http://pandas.pydata.org/pandas-docs/stable/generated/pandas.DataFrame.sort_values.html):"
   ]
  },
  {
   "cell_type": "code",
   "execution_count": null,
   "metadata": {},
   "outputs": [],
   "source": [
    "# Sorts the DataFrame in-place, rather than returning a new DataFrame.\n",
    "data.sort_values(\"Sodium_(mg)\", inplace=True)\n",
    "# Sorts by descending order, rather than ascending.\n",
    "data.sort_values(\"Sodium_(mg)\", inplace=True, ascending=False)"
   ]
  },
  {
   "cell_type": "markdown",
   "metadata": {},
   "source": [
    "<div class=\"alert alert-info\">\n",
    "<b>Exercise Start.</b>\n",
    "</div>\n",
    "\n",
    "**Description**: \n",
    "\n",
    ">1. Sort the <span style=\"background-color: #F9EBEA; color:##C0392B\">food_info</span> DataFrame in-place on the <span style=\"background-color: #F9EBEA; color:##C0392B\">Norm\\_Nutr\\_Index</span> column in descending order."
   ]
  }
 ],
 "metadata": {
  "kernelspec": {
   "display_name": "Python 3",
   "language": "python",
   "name": "python3"
  },
  "language_info": {
   "codemirror_mode": {
    "name": "ipython",
    "version": 3
   },
   "file_extension": ".py",
   "mimetype": "text/x-python",
   "name": "python",
   "nbconvert_exporter": "python",
   "pygments_lexer": "ipython3",
   "version": "3.7.0"
  }
 },
 "nbformat": 4,
 "nbformat_minor": 2
}
