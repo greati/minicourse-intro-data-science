{
 "cells": [
  {
   "cell_type": "markdown",
   "metadata": {},
   "source": [
    "# Advanced plot\n",
    "\n",
    "There are several libraries to pruduce amazing plots, like:\n",
    "\n",
    "<ul>\n",
    "    <li><a href=\"https://plot.ly/\">Plotly</a></li>\n",
    "    <li><a href=\"https://bokeh.pydata.org/\">Bokeh</a></li>\n",
    "    <li><a href=\"http://python-visualization.github.io/folium/\">Folium</a></li>\n",
    "    <li><a href=\"https://matplotlib.org/\">Matplotlib</a></li>\n",
    "    <li><a href=\"https://seaborn.pydata.org/\">Seaborn</a></li>\n",
    "    <li><a href=\"https://ggplot2.tidyverse.org/\">ggplot</a></li>\n",
    "    <li><a href=\"http://www.pygal.org\">Pygal</a></li>\n",
    "    <li><a href=\"https://github.com/andrea-cuttone/geoplotlib/wiki/User-Guide\">Geoplotlib</a></li>\n",
    "    <li><a href=\"https://github.com/ResidentMario/missingno\">missingno</a></li>\n",
    "</ul>\n",
    "\n",
    "Let's use the first one, because it is one of the most used libraries in data science and has the capacity of create complex charts with few lines of code. \n",
    "\n",
    "<div class = \"alert alert-info\">\n",
    "    <b>Let's start code</b>\n",
    "</div>"
   ]
  },
  {
   "cell_type": "code",
   "execution_count": 87,
   "metadata": {},
   "outputs": [
    {
     "data": {
      "text/html": [
       "<script>requirejs.config({paths: { 'plotly': ['https://cdn.plot.ly/plotly-latest.min']},});if(!window.Plotly) {{require(['plotly'],function(plotly) {window.Plotly=plotly;});}}</script>"
      ],
      "text/vnd.plotly.v1+html": [
       "<script>requirejs.config({paths: { 'plotly': ['https://cdn.plot.ly/plotly-latest.min']},});if(!window.Plotly) {{require(['plotly'],function(plotly) {window.Plotly=plotly;});}}</script>"
      ]
     },
     "metadata": {},
     "output_type": "display_data"
    },
    {
     "data": {
      "application/vnd.plotly.v1+json": {
       "data": [
        {
         "fill": "toself",
         "r": [
          1447,
          983,
          1474,
          1097,
          1794,
          61
         ],
         "theta": [
          "Hydro",
          "Wind",
          "Oil",
          "Gas",
          "Solar",
          "Nuclear"
         ],
         "type": "scatterpolar",
         "uid": "36e52898-9c0b-11e8-b787-fc15b4d90139"
        }
       ],
       "layout": {
        "polar": {
         "radialaxis": {
          "range": [
           0,
           2000
          ],
          "visible": true
         }
        }
       }
      },
      "text/html": [
       "<div id=\"6898675e-77d0-4aaa-a3d9-09d0a8ccabe6\" style=\"height: 525px; width: 100%;\" class=\"plotly-graph-div\"></div><script type=\"text/javascript\">require([\"plotly\"], function(Plotly) { window.PLOTLYENV=window.PLOTLYENV || {};window.PLOTLYENV.BASE_URL=\"https://plot.ly\";\n",
       "        Plotly.plot(\n",
       "            '6898675e-77d0-4aaa-a3d9-09d0a8ccabe6',\n",
       "            [{\"fill\": \"toself\", \"r\": [1447, 983, 1474, 1097, 1794, 61], \"theta\": [\"Hydro\", \"Wind\", \"Oil\", \"Gas\", \"Solar\", \"Nuclear\"], \"type\": \"scatterpolar\", \"uid\": \"36e52898-9c0b-11e8-b787-fc15b4d90139\"}],\n",
       "            {\"polar\": {\"radialaxis\": {\"range\": [0, 2000], \"visible\": true}}},\n",
       "            {\"showLink\": true, \"linkText\": \"Export to plot.ly\"}\n",
       "        ).then(function () {return Plotly.addFrames('6898675e-77d0-4aaa-a3d9-09d0a8ccabe6',{});}).then(function(){Plotly.animate('6898675e-77d0-4aaa-a3d9-09d0a8ccabe6');})\n",
       "        });</script>"
      ],
      "text/vnd.plotly.v1+html": [
       "<div id=\"6898675e-77d0-4aaa-a3d9-09d0a8ccabe6\" style=\"height: 525px; width: 100%;\" class=\"plotly-graph-div\"></div><script type=\"text/javascript\">require([\"plotly\"], function(Plotly) { window.PLOTLYENV=window.PLOTLYENV || {};window.PLOTLYENV.BASE_URL=\"https://plot.ly\";\n",
       "        Plotly.plot(\n",
       "            '6898675e-77d0-4aaa-a3d9-09d0a8ccabe6',\n",
       "            [{\"fill\": \"toself\", \"r\": [1447, 983, 1474, 1097, 1794, 61], \"theta\": [\"Hydro\", \"Wind\", \"Oil\", \"Gas\", \"Solar\", \"Nuclear\"], \"type\": \"scatterpolar\", \"uid\": \"36e52898-9c0b-11e8-b787-fc15b4d90139\"}],\n",
       "            {\"polar\": {\"radialaxis\": {\"range\": [0, 2000], \"visible\": true}}},\n",
       "            {\"showLink\": true, \"linkText\": \"Export to plot.ly\"}\n",
       "        ).then(function () {return Plotly.addFrames('6898675e-77d0-4aaa-a3d9-09d0a8ccabe6',{});}).then(function(){Plotly.animate('6898675e-77d0-4aaa-a3d9-09d0a8ccabe6');})\n",
       "        });</script>"
      ]
     },
     "metadata": {},
     "output_type": "display_data"
    }
   ],
   "source": [
    "import pandas as pd\n",
    "import plotly as py\n",
    "import plotly.graph_objs as go\n",
    "py.offline.init_notebook_mode(connected=True)\n",
    "\n",
    "# Reading dataset\n",
    "global_power = pd.read_csv('../datasets/global_power_plant_database.csv')\n",
    "\n",
    "# Filtering dataset by country and fuel\n",
    "countries_fuel = global_power[['country', 'fuel1']]\n",
    "\n",
    "# Getting the top 5 energy producer\n",
    "top_5 = countries_fuel.groupby('country').count().sort_values(by=['fuel1'], ascending=False).head(5).index.tolist()\n",
    "\n",
    "# Choosing energies\n",
    "energies = ['Hydro', 'Wind', 'Oil', 'Gas', 'Solar', 'Nuclear']\n",
    "usa = countries_fuel.loc[countries_fuel['country'] == 'USA'].groupby('fuel1').count()\n",
    "usa = usa.loc[energies]['country'].tolist()\n",
    "\n",
    "data = [go.Scatterpolar(\n",
    "  r = usa,\n",
    "  theta = energies,\n",
    "  fill = 'toself'\n",
    ")]\n",
    "\n",
    "layout = go.Layout(\n",
    "  polar = dict(\n",
    "    radialaxis = dict(\n",
    "      visible = True,\n",
    "      range = [0, 2000]\n",
    "    )\n",
    "  ),\n",
    ")\n",
    "\n",
    "fig = go.Figure(data=data, layout=layout)\n",
    "py.offline.iplot(fig)"
   ]
  },
  {
   "cell_type": "code",
   "execution_count": null,
   "metadata": {},
   "outputs": [],
   "source": []
  }
 ],
 "metadata": {
  "kernelspec": {
   "display_name": "Python 3",
   "language": "python",
   "name": "python3"
  },
  "language_info": {
   "codemirror_mode": {
    "name": "ipython",
    "version": 3
   },
   "file_extension": ".py",
   "mimetype": "text/x-python",
   "name": "python",
   "nbconvert_exporter": "python",
   "pygments_lexer": "ipython3",
   "version": "3.6.4"
  }
 },
 "nbformat": 4,
 "nbformat_minor": 2
}
