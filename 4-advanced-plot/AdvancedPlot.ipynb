{
 "cells": [
  {
   "cell_type": "markdown",
   "metadata": {},
   "source": [
    "# Advanced plot\n",
    "\n",
    "There are several libraries to pruduce amazing plots, like:\n",
    "\n",
    "<ul>\n",
    "    <li><a href=\"https://plot.ly/\">Plotly</a></li>\n",
    "    <li><a href=\"https://bokeh.pydata.org/\">Bokeh</a></li>\n",
    "    <li><a href=\"http://python-visualization.github.io/folium/\">Folium</a></li>\n",
    "    <li><a href=\"https://matplotlib.org/\">Matplotlib</a></li>\n",
    "    <li><a href=\"https://seaborn.pydata.org/\">Seaborn</a></li>\n",
    "    <li><a href=\"https://ggplot2.tidyverse.org/\">ggplot</a></li>\n",
    "    <li><a href=\"http://www.pygal.org\">Pygal</a></li>\n",
    "    <li><a href=\"https://github.com/andrea-cuttone/geoplotlib/wiki/User-Guide\">Geoplotlib</a></li>\n",
    "    <li><a href=\"https://github.com/ResidentMario/missingno\">missingno</a></li>\n",
    "</ul>\n",
    "\n",
    "Let's use the first one, because it is one of the most used libraries in data science and has the capacity of create complex charts with few lines of code. \n",
    "\n",
    "<br>\n",
    "<div class=\"alert alert-info\">\n",
    "<b>Let's start code</b>\n",
    "</div>"
   ]
  },
  {
   "cell_type": "code",
   "execution_count": 1,
   "metadata": {},
   "outputs": [
    {
     "data": {
      "text/html": [
       "<script>requirejs.config({paths: { 'plotly': ['https://cdn.plot.ly/plotly-latest.min']},});if(!window.Plotly) {{require(['plotly'],function(plotly) {window.Plotly=plotly;});}}</script>"
      ],
      "text/vnd.plotly.v1+html": [
       "<script>requirejs.config({paths: { 'plotly': ['https://cdn.plot.ly/plotly-latest.min']},});if(!window.Plotly) {{require(['plotly'],function(plotly) {window.Plotly=plotly;});}}</script>"
      ]
     },
     "metadata": {},
     "output_type": "display_data"
    }
   ],
   "source": [
    "# Importing libraries\n",
    "import pandas as pd\n",
    "import plotly as py\n",
    "import plotly.graph_objs as go\n",
    "\n",
    "# Setting the configuration to use plotly in offline mode\n",
    "py.offline.init_notebook_mode(connected=True)\n",
    "\n",
    "# Reading dataset\n",
    "global_power = pd.read_csv('../datasets/global_power_plant_database.csv')"
   ]
  },
  {
   "cell_type": "markdown",
   "metadata": {},
   "source": [
    "## Polar Chart: Top 5 producers"
   ]
  },
  {
   "cell_type": "code",
   "execution_count": 2,
   "metadata": {},
   "outputs": [
    {
     "data": {
      "application/vnd.plotly.v1+json": {
       "data": [
        {
         "fill": "toself",
         "name": "USA",
         "r": [
          1447,
          983,
          1474,
          1097,
          1794
         ],
         "subplot": "polar",
         "theta": [
          "Hydro",
          "Wind",
          "Oil",
          "Gas",
          "Solar"
         ],
         "type": "scatterpolar",
         "uid": "37413954-9caf-11e8-b092-51d2e1bc1a99"
        },
        {
         "fill": "toself",
         "name": "CHN",
         "r": [
          949,
          835,
          6,
          170,
          124
         ],
         "subplot": "polar2",
         "theta": [
          "Hydro",
          "Wind",
          "Oil",
          "Gas",
          "Solar"
         ],
         "type": "scatterpolar",
         "uid": "37413ba2-9caf-11e8-b092-51d2e1bc1a99"
        },
        {
         "fill": "toself",
         "name": "GBR",
         "r": [
          111,
          748,
          10,
          44,
          1111
         ],
         "subplot": "polar3",
         "theta": [
          "Hydro",
          "Wind",
          "Oil",
          "Gas",
          "Solar"
         ],
         "type": "scatterpolar",
         "uid": "37413cd8-9caf-11e8-b092-51d2e1bc1a99"
        },
        {
         "fill": "toself",
         "name": "BRA",
         "r": [
          701,
          412,
          627,
          118,
          4
         ],
         "subplot": "polar4",
         "theta": [
          "Hydro",
          "Wind",
          "Oil",
          "Gas",
          "Solar"
         ],
         "type": "scatterpolar",
         "uid": "37413e04-9caf-11e8-b092-51d2e1bc1a99"
        },
        {
         "fill": "toself",
         "name": "FRA",
         "r": [
          430,
          721,
          5,
          9,
          679
         ],
         "subplot": "polar5",
         "theta": [
          "Hydro",
          "Wind",
          "Oil",
          "Gas",
          "Solar"
         ],
         "type": "scatterpolar",
         "uid": "37413f1c-9caf-11e8-b092-51d2e1bc1a99"
        }
       ],
       "layout": {
        "polar": {
         "domain": {
          "x": [
           0,
           0.2
          ],
          "y": [
           0,
           0.5
          ]
         },
         "radialaxis": {
          "range": [
           0,
           2000
          ],
          "visible": true
         }
        },
        "polar2": {
         "domain": {
          "x": [
           0.2,
           0.4
          ],
          "y": [
           0.5,
           1
          ]
         },
         "radialaxis": {
          "range": [
           0,
           1000
          ],
          "visible": true
         }
        },
        "polar3": {
         "domain": {
          "x": [
           0.4,
           0.6
          ],
          "y": [
           0,
           0.5
          ]
         },
         "radialaxis": {
          "range": [
           0,
           1000
          ],
          "visible": true
         }
        },
        "polar4": {
         "domain": {
          "x": [
           0.6,
           0.8
          ],
          "y": [
           0.5,
           1
          ]
         },
         "radialaxis": {
          "range": [
           0,
           800
          ],
          "visible": true
         }
        },
        "polar5": {
         "domain": {
          "x": [
           0.8,
           1
          ],
          "y": [
           0,
           0.5
          ]
         },
         "radialaxis": {
          "range": [
           0,
           800
          ],
          "visible": true
         }
        },
        "title": "No. of production places in major countries"
       }
      },
      "text/html": [
       "<div id=\"018db703-8e67-4ff4-9849-ff1692766be8\" style=\"height: 525px; width: 100%;\" class=\"plotly-graph-div\"></div><script type=\"text/javascript\">require([\"plotly\"], function(Plotly) { window.PLOTLYENV=window.PLOTLYENV || {};window.PLOTLYENV.BASE_URL=\"https://plot.ly\";\n",
       "        Plotly.plot(\n",
       "            '018db703-8e67-4ff4-9849-ff1692766be8',\n",
       "            [{\"fill\": \"toself\", \"name\": \"USA\", \"r\": [1447, 983, 1474, 1097, 1794], \"subplot\": \"polar\", \"theta\": [\"Hydro\", \"Wind\", \"Oil\", \"Gas\", \"Solar\"], \"type\": \"scatterpolar\", \"uid\": \"37413954-9caf-11e8-b092-51d2e1bc1a99\"}, {\"fill\": \"toself\", \"name\": \"CHN\", \"r\": [949, 835, 6, 170, 124], \"subplot\": \"polar2\", \"theta\": [\"Hydro\", \"Wind\", \"Oil\", \"Gas\", \"Solar\"], \"type\": \"scatterpolar\", \"uid\": \"37413ba2-9caf-11e8-b092-51d2e1bc1a99\"}, {\"fill\": \"toself\", \"name\": \"GBR\", \"r\": [111, 748, 10, 44, 1111], \"subplot\": \"polar3\", \"theta\": [\"Hydro\", \"Wind\", \"Oil\", \"Gas\", \"Solar\"], \"type\": \"scatterpolar\", \"uid\": \"37413cd8-9caf-11e8-b092-51d2e1bc1a99\"}, {\"fill\": \"toself\", \"name\": \"BRA\", \"r\": [701, 412, 627, 118, 4], \"subplot\": \"polar4\", \"theta\": [\"Hydro\", \"Wind\", \"Oil\", \"Gas\", \"Solar\"], \"type\": \"scatterpolar\", \"uid\": \"37413e04-9caf-11e8-b092-51d2e1bc1a99\"}, {\"fill\": \"toself\", \"name\": \"FRA\", \"r\": [430, 721, 5, 9, 679], \"subplot\": \"polar5\", \"theta\": [\"Hydro\", \"Wind\", \"Oil\", \"Gas\", \"Solar\"], \"type\": \"scatterpolar\", \"uid\": \"37413f1c-9caf-11e8-b092-51d2e1bc1a99\"}],\n",
       "            {\"polar\": {\"domain\": {\"x\": [0, 0.2], \"y\": [0, 0.5]}, \"radialaxis\": {\"range\": [0, 2000], \"visible\": true}}, \"title\": \"No. of production places in major countries\", \"polar2\": {\"domain\": {\"x\": [0.2, 0.4], \"y\": [0.5, 1]}, \"radialaxis\": {\"range\": [0, 1000], \"visible\": true}}, \"polar3\": {\"domain\": {\"x\": [0.4, 0.6], \"y\": [0, 0.5]}, \"radialaxis\": {\"range\": [0, 1000], \"visible\": true}}, \"polar4\": {\"domain\": {\"x\": [0.6, 0.8], \"y\": [0.5, 1]}, \"radialaxis\": {\"range\": [0, 800], \"visible\": true}}, \"polar5\": {\"domain\": {\"x\": [0.8, 1], \"y\": [0, 0.5]}, \"radialaxis\": {\"range\": [0, 800], \"visible\": true}}},\n",
       "            {\"showLink\": true, \"linkText\": \"Export to plot.ly\"}\n",
       "        ).then(function () {return Plotly.addFrames('018db703-8e67-4ff4-9849-ff1692766be8',{});}).then(function(){Plotly.animate('018db703-8e67-4ff4-9849-ff1692766be8');})\n",
       "        });</script>"
      ],
      "text/vnd.plotly.v1+html": [
       "<div id=\"018db703-8e67-4ff4-9849-ff1692766be8\" style=\"height: 525px; width: 100%;\" class=\"plotly-graph-div\"></div><script type=\"text/javascript\">require([\"plotly\"], function(Plotly) { window.PLOTLYENV=window.PLOTLYENV || {};window.PLOTLYENV.BASE_URL=\"https://plot.ly\";\n",
       "        Plotly.plot(\n",
       "            '018db703-8e67-4ff4-9849-ff1692766be8',\n",
       "            [{\"fill\": \"toself\", \"name\": \"USA\", \"r\": [1447, 983, 1474, 1097, 1794], \"subplot\": \"polar\", \"theta\": [\"Hydro\", \"Wind\", \"Oil\", \"Gas\", \"Solar\"], \"type\": \"scatterpolar\", \"uid\": \"37413954-9caf-11e8-b092-51d2e1bc1a99\"}, {\"fill\": \"toself\", \"name\": \"CHN\", \"r\": [949, 835, 6, 170, 124], \"subplot\": \"polar2\", \"theta\": [\"Hydro\", \"Wind\", \"Oil\", \"Gas\", \"Solar\"], \"type\": \"scatterpolar\", \"uid\": \"37413ba2-9caf-11e8-b092-51d2e1bc1a99\"}, {\"fill\": \"toself\", \"name\": \"GBR\", \"r\": [111, 748, 10, 44, 1111], \"subplot\": \"polar3\", \"theta\": [\"Hydro\", \"Wind\", \"Oil\", \"Gas\", \"Solar\"], \"type\": \"scatterpolar\", \"uid\": \"37413cd8-9caf-11e8-b092-51d2e1bc1a99\"}, {\"fill\": \"toself\", \"name\": \"BRA\", \"r\": [701, 412, 627, 118, 4], \"subplot\": \"polar4\", \"theta\": [\"Hydro\", \"Wind\", \"Oil\", \"Gas\", \"Solar\"], \"type\": \"scatterpolar\", \"uid\": \"37413e04-9caf-11e8-b092-51d2e1bc1a99\"}, {\"fill\": \"toself\", \"name\": \"FRA\", \"r\": [430, 721, 5, 9, 679], \"subplot\": \"polar5\", \"theta\": [\"Hydro\", \"Wind\", \"Oil\", \"Gas\", \"Solar\"], \"type\": \"scatterpolar\", \"uid\": \"37413f1c-9caf-11e8-b092-51d2e1bc1a99\"}],\n",
       "            {\"polar\": {\"domain\": {\"x\": [0, 0.2], \"y\": [0, 0.5]}, \"radialaxis\": {\"range\": [0, 2000], \"visible\": true}}, \"title\": \"No. of production places in major countries\", \"polar2\": {\"domain\": {\"x\": [0.2, 0.4], \"y\": [0.5, 1]}, \"radialaxis\": {\"range\": [0, 1000], \"visible\": true}}, \"polar3\": {\"domain\": {\"x\": [0.4, 0.6], \"y\": [0, 0.5]}, \"radialaxis\": {\"range\": [0, 1000], \"visible\": true}}, \"polar4\": {\"domain\": {\"x\": [0.6, 0.8], \"y\": [0.5, 1]}, \"radialaxis\": {\"range\": [0, 800], \"visible\": true}}, \"polar5\": {\"domain\": {\"x\": [0.8, 1], \"y\": [0, 0.5]}, \"radialaxis\": {\"range\": [0, 800], \"visible\": true}}},\n",
       "            {\"showLink\": true, \"linkText\": \"Export to plot.ly\"}\n",
       "        ).then(function () {return Plotly.addFrames('018db703-8e67-4ff4-9849-ff1692766be8',{});}).then(function(){Plotly.animate('018db703-8e67-4ff4-9849-ff1692766be8');})\n",
       "        });</script>"
      ]
     },
     "metadata": {},
     "output_type": "display_data"
    }
   ],
   "source": [
    "# Filtering dataset by country and fuel\n",
    "countries_fuel = global_power[['country', 'fuel1']]\n",
    "\n",
    "# Getting the top 5 energy producer\n",
    "top_5 = countries_fuel.groupby('country').count().sort_values(by=['fuel1'], ascending=False).head(5).index.tolist()\n",
    "\n",
    "# Choosing energies\n",
    "energies = ['Hydro', 'Wind', 'Oil', 'Gas', 'Solar']\n",
    "data  = []\n",
    "data_ = []\n",
    "\n",
    "index = 1\n",
    "for country in top_5:\n",
    "    c = countries_fuel.loc[countries_fuel['country'] == country].groupby('fuel1').count()\n",
    "    c = c.loc[energies]['country'].tolist()\n",
    "    data.append(\n",
    "        go.Scatterpolar(\n",
    "            r = c,\n",
    "            theta = energies,\n",
    "            fill = 'toself',\n",
    "            name = country,\n",
    "            subplot = \"polar\" + str(index)\n",
    "       )\n",
    "    )\n",
    "    data_.append(\n",
    "        go.Scatterpolar(\n",
    "            r = c,\n",
    "            theta = energies,\n",
    "            fill = 'toself',\n",
    "            name = country,\n",
    "            subplot = \"polar\"\n",
    "       )\n",
    "    )\n",
    "    index += 1\n",
    "\n",
    "layout = go.Layout(\n",
    "    title = 'No. of production places in major countries',\n",
    "    polar = dict(\n",
    "        domain = dict(\n",
    "            x = [0, 1],\n",
    "            y = [0, 1]\n",
    "        ),\n",
    "        radialaxis = dict(\n",
    "            visible = True,\n",
    "            range = [0, 2000]\n",
    "        )\n",
    "    ),\n",
    "    polar1 = dict(\n",
    "        domain = dict(\n",
    "            x = [0, .2],\n",
    "            y = [0, .5]\n",
    "        ),\n",
    "        radialaxis = dict(\n",
    "            visible = True,\n",
    "            range = [0, 2000]\n",
    "        )\n",
    "    ),\n",
    "    polar2 = dict(\n",
    "        domain = dict(\n",
    "            x = [.2, .4],\n",
    "            y = [.5, 1]\n",
    "        ),\n",
    "        radialaxis = dict(\n",
    "            visible = True,\n",
    "            range = [0, 1000]\n",
    "        )\n",
    "    ),\n",
    "    polar3 = dict(\n",
    "        domain = dict(\n",
    "            x = [.4, .6],\n",
    "            y = [0, .5]\n",
    "        ),\n",
    "        radialaxis = dict(\n",
    "            visible = True,\n",
    "            range = [0, 1000]\n",
    "        )\n",
    "    ),\n",
    "    polar4 = dict(\n",
    "        domain = dict(\n",
    "            x = [.6, .8],\n",
    "            y = [.5, 1]\n",
    "        ),\n",
    "        radialaxis = dict(\n",
    "            visible = True,\n",
    "            range = [0, 800]\n",
    "        )\n",
    "    ),\n",
    "    polar5 = dict(\n",
    "        domain = dict(\n",
    "            x = [.8, 1],\n",
    "            y = [0, .5]\n",
    "        ),\n",
    "        radialaxis = dict(\n",
    "            visible = True,\n",
    "            range = [0, 800]\n",
    "        )\n",
    "    ),\n",
    ")\n",
    "\n",
    "layout_ = go.Layout(\n",
    "    title = 'No. of production places in major countries',\n",
    "    polar = dict(\n",
    "        domain = dict(\n",
    "            x = [0, 1],\n",
    "            y = [0, 1]\n",
    "        ),\n",
    "        radialaxis = dict(\n",
    "            visible = True,\n",
    "            range = [0, 2000]\n",
    "        )\n",
    "    ),\n",
    ")\n",
    "\n",
    "fig = go.Figure(data=data, layout=layout)\n",
    "py.offline.iplot(fig)"
   ]
  },
  {
   "cell_type": "code",
   "execution_count": 3,
   "metadata": {},
   "outputs": [
    {
     "data": {
      "application/vnd.plotly.v1+json": {
       "data": [
        {
         "fill": "toself",
         "name": "USA",
         "r": [
          1447,
          983,
          1474,
          1097,
          1794
         ],
         "subplot": "polar",
         "theta": [
          "Hydro",
          "Wind",
          "Oil",
          "Gas",
          "Solar"
         ],
         "type": "scatterpolar",
         "uid": "3851c8fe-9caf-11e8-b092-51d2e1bc1a99"
        },
        {
         "fill": "toself",
         "name": "CHN",
         "r": [
          949,
          835,
          6,
          170,
          124
         ],
         "subplot": "polar",
         "theta": [
          "Hydro",
          "Wind",
          "Oil",
          "Gas",
          "Solar"
         ],
         "type": "scatterpolar",
         "uid": "3851cb10-9caf-11e8-b092-51d2e1bc1a99"
        },
        {
         "fill": "toself",
         "name": "GBR",
         "r": [
          111,
          748,
          10,
          44,
          1111
         ],
         "subplot": "polar",
         "theta": [
          "Hydro",
          "Wind",
          "Oil",
          "Gas",
          "Solar"
         ],
         "type": "scatterpolar",
         "uid": "3851cc50-9caf-11e8-b092-51d2e1bc1a99"
        },
        {
         "fill": "toself",
         "name": "BRA",
         "r": [
          701,
          412,
          627,
          118,
          4
         ],
         "subplot": "polar",
         "theta": [
          "Hydro",
          "Wind",
          "Oil",
          "Gas",
          "Solar"
         ],
         "type": "scatterpolar",
         "uid": "3851cd86-9caf-11e8-b092-51d2e1bc1a99"
        },
        {
         "fill": "toself",
         "name": "FRA",
         "r": [
          430,
          721,
          5,
          9,
          679
         ],
         "subplot": "polar",
         "theta": [
          "Hydro",
          "Wind",
          "Oil",
          "Gas",
          "Solar"
         ],
         "type": "scatterpolar",
         "uid": "3851cea8-9caf-11e8-b092-51d2e1bc1a99"
        }
       ],
       "layout": {
        "polar": {
         "domain": {
          "x": [
           0,
           1
          ],
          "y": [
           0,
           1
          ]
         },
         "radialaxis": {
          "range": [
           0,
           2000
          ],
          "visible": true
         }
        },
        "title": "No. of production places in major countries"
       }
      },
      "text/html": [
       "<div id=\"eaf1e5a4-53d7-4935-999e-a3e68e2e93f7\" style=\"height: 525px; width: 100%;\" class=\"plotly-graph-div\"></div><script type=\"text/javascript\">require([\"plotly\"], function(Plotly) { window.PLOTLYENV=window.PLOTLYENV || {};window.PLOTLYENV.BASE_URL=\"https://plot.ly\";\n",
       "        Plotly.plot(\n",
       "            'eaf1e5a4-53d7-4935-999e-a3e68e2e93f7',\n",
       "            [{\"fill\": \"toself\", \"name\": \"USA\", \"r\": [1447, 983, 1474, 1097, 1794], \"subplot\": \"polar\", \"theta\": [\"Hydro\", \"Wind\", \"Oil\", \"Gas\", \"Solar\"], \"type\": \"scatterpolar\", \"uid\": \"3851c8fe-9caf-11e8-b092-51d2e1bc1a99\"}, {\"fill\": \"toself\", \"name\": \"CHN\", \"r\": [949, 835, 6, 170, 124], \"subplot\": \"polar\", \"theta\": [\"Hydro\", \"Wind\", \"Oil\", \"Gas\", \"Solar\"], \"type\": \"scatterpolar\", \"uid\": \"3851cb10-9caf-11e8-b092-51d2e1bc1a99\"}, {\"fill\": \"toself\", \"name\": \"GBR\", \"r\": [111, 748, 10, 44, 1111], \"subplot\": \"polar\", \"theta\": [\"Hydro\", \"Wind\", \"Oil\", \"Gas\", \"Solar\"], \"type\": \"scatterpolar\", \"uid\": \"3851cc50-9caf-11e8-b092-51d2e1bc1a99\"}, {\"fill\": \"toself\", \"name\": \"BRA\", \"r\": [701, 412, 627, 118, 4], \"subplot\": \"polar\", \"theta\": [\"Hydro\", \"Wind\", \"Oil\", \"Gas\", \"Solar\"], \"type\": \"scatterpolar\", \"uid\": \"3851cd86-9caf-11e8-b092-51d2e1bc1a99\"}, {\"fill\": \"toself\", \"name\": \"FRA\", \"r\": [430, 721, 5, 9, 679], \"subplot\": \"polar\", \"theta\": [\"Hydro\", \"Wind\", \"Oil\", \"Gas\", \"Solar\"], \"type\": \"scatterpolar\", \"uid\": \"3851cea8-9caf-11e8-b092-51d2e1bc1a99\"}],\n",
       "            {\"polar\": {\"domain\": {\"x\": [0, 1], \"y\": [0, 1]}, \"radialaxis\": {\"range\": [0, 2000], \"visible\": true}}, \"title\": \"No. of production places in major countries\"},\n",
       "            {\"showLink\": true, \"linkText\": \"Export to plot.ly\"}\n",
       "        ).then(function () {return Plotly.addFrames('eaf1e5a4-53d7-4935-999e-a3e68e2e93f7',{});}).then(function(){Plotly.animate('eaf1e5a4-53d7-4935-999e-a3e68e2e93f7');})\n",
       "        });</script>"
      ],
      "text/vnd.plotly.v1+html": [
       "<div id=\"eaf1e5a4-53d7-4935-999e-a3e68e2e93f7\" style=\"height: 525px; width: 100%;\" class=\"plotly-graph-div\"></div><script type=\"text/javascript\">require([\"plotly\"], function(Plotly) { window.PLOTLYENV=window.PLOTLYENV || {};window.PLOTLYENV.BASE_URL=\"https://plot.ly\";\n",
       "        Plotly.plot(\n",
       "            'eaf1e5a4-53d7-4935-999e-a3e68e2e93f7',\n",
       "            [{\"fill\": \"toself\", \"name\": \"USA\", \"r\": [1447, 983, 1474, 1097, 1794], \"subplot\": \"polar\", \"theta\": [\"Hydro\", \"Wind\", \"Oil\", \"Gas\", \"Solar\"], \"type\": \"scatterpolar\", \"uid\": \"3851c8fe-9caf-11e8-b092-51d2e1bc1a99\"}, {\"fill\": \"toself\", \"name\": \"CHN\", \"r\": [949, 835, 6, 170, 124], \"subplot\": \"polar\", \"theta\": [\"Hydro\", \"Wind\", \"Oil\", \"Gas\", \"Solar\"], \"type\": \"scatterpolar\", \"uid\": \"3851cb10-9caf-11e8-b092-51d2e1bc1a99\"}, {\"fill\": \"toself\", \"name\": \"GBR\", \"r\": [111, 748, 10, 44, 1111], \"subplot\": \"polar\", \"theta\": [\"Hydro\", \"Wind\", \"Oil\", \"Gas\", \"Solar\"], \"type\": \"scatterpolar\", \"uid\": \"3851cc50-9caf-11e8-b092-51d2e1bc1a99\"}, {\"fill\": \"toself\", \"name\": \"BRA\", \"r\": [701, 412, 627, 118, 4], \"subplot\": \"polar\", \"theta\": [\"Hydro\", \"Wind\", \"Oil\", \"Gas\", \"Solar\"], \"type\": \"scatterpolar\", \"uid\": \"3851cd86-9caf-11e8-b092-51d2e1bc1a99\"}, {\"fill\": \"toself\", \"name\": \"FRA\", \"r\": [430, 721, 5, 9, 679], \"subplot\": \"polar\", \"theta\": [\"Hydro\", \"Wind\", \"Oil\", \"Gas\", \"Solar\"], \"type\": \"scatterpolar\", \"uid\": \"3851cea8-9caf-11e8-b092-51d2e1bc1a99\"}],\n",
       "            {\"polar\": {\"domain\": {\"x\": [0, 1], \"y\": [0, 1]}, \"radialaxis\": {\"range\": [0, 2000], \"visible\": true}}, \"title\": \"No. of production places in major countries\"},\n",
       "            {\"showLink\": true, \"linkText\": \"Export to plot.ly\"}\n",
       "        ).then(function () {return Plotly.addFrames('eaf1e5a4-53d7-4935-999e-a3e68e2e93f7',{});}).then(function(){Plotly.animate('eaf1e5a4-53d7-4935-999e-a3e68e2e93f7');})\n",
       "        });</script>"
      ]
     },
     "metadata": {},
     "output_type": "display_data"
    }
   ],
   "source": [
    "fig = go.Figure(data=data_, layout=layout_)\n",
    "py.offline.iplot(fig)"
   ]
  },
  {
   "cell_type": "markdown",
   "metadata": {},
   "source": [
    "## Places of energy production on map"
   ]
  },
  {
   "cell_type": "code",
   "execution_count": 105,
   "metadata": {},
   "outputs": [],
   "source": [
    "#TODO"
   ]
  },
  {
   "cell_type": "code",
   "execution_count": null,
   "metadata": {},
   "outputs": [],
   "source": []
  }
 ],
 "metadata": {
  "kernelspec": {
   "display_name": "Python 3",
   "language": "python",
   "name": "python3"
  },
  "language_info": {
   "codemirror_mode": {
    "name": "ipython",
    "version": 3
   },
   "file_extension": ".py",
   "mimetype": "text/x-python",
   "name": "python",
   "nbconvert_exporter": "python",
   "pygments_lexer": "ipython3",
   "version": "3.6.6"
  }
 },
 "nbformat": 4,
 "nbformat_minor": 2
}
