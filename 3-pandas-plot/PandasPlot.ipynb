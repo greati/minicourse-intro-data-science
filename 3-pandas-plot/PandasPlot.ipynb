{
 "cells": [
  {
   "cell_type": "markdown",
   "metadata": {},
   "source": [
    "# Plotting data with pandas\n",
    "\n",
    "pandas has built-in methods that simplify the creation of data visualization from DataFrames and Series objetcs.\n",
    "This part of the course covers the main pandas possibilities for plotting data.\n",
    "\n",
    "Before start coding, let's import the pandas library as usual, and the numpy, for some numerical processing we may need:"
   ]
  },
  {
   "cell_type": "code",
   "execution_count": null,
   "metadata": {},
   "outputs": [],
   "source": [
    "import pandas as pd\n",
    "import numpy as np"
   ]
  },
  {
   "cell_type": "markdown",
   "metadata": {},
   "source": [
    "And, finally, in order to better visualize the plots in this notebook, we execute the following line:"
   ]
  },
  {
   "cell_type": "code",
   "execution_count": null,
   "metadata": {},
   "outputs": [],
   "source": [
    "%matplotlib inline"
   ]
  },
  {
   "cell_type": "markdown",
   "metadata": {},
   "source": [
    "## Line plots\n",
    "\n",
    "All DataFrame and Series objects are equipped with the *plot* method, which builds some basic plots.\n",
    "The default is line plots. Check how we can create a line plot from a Series object:"
   ]
  },
  {
   "cell_type": "code",
   "execution_count": null,
   "metadata": {},
   "outputs": [],
   "source": [
    "# Create a Series object\n",
    "s = pd.Series(np.random.randn(10).cumsum(), index=np.arange(0,100,10))\n",
    "# Call its plot method\n",
    "s.plot()"
   ]
  },
  {
   "cell_type": "markdown",
   "metadata": {},
   "source": [
    "Notice that the index of the Series object was used on the x-axis. We can disable this feature by passing *use_index=False* to the *plot* method. Other configuration parameters are:\n",
    "- xticks\n",
    "- xlim\n",
    "- yticks\n",
    "- ylim\n",
    "- ax"
   ]
  },
  {
   "cell_type": "markdown",
   "metadata": {},
   "source": [
    "We can also use DataFrames for the same purpose. In this case, each column will produce a line plot on the same\n",
    "subplot, and a legend will be automatically created:"
   ]
  },
  {
   "cell_type": "code",
   "execution_count": null,
   "metadata": {
    "scrolled": true
   },
   "outputs": [],
   "source": [
    "# Create a DataFrame object\n",
    "df = pd.DataFrame(np.random.randn(10,4).cumsum(0),\n",
    "                 columns=['Temperature','Pressure','Volume','Density'],\n",
    "                 index=np.arange(0,100,10))\n",
    "# Call its plot method\n",
    "df.plot()"
   ]
  },
  {
   "cell_type": "markdown",
   "metadata": {},
   "source": [
    "## Bar plots\n",
    "\n",
    "For Series and DataFrames, *plot* can also be seen as an attribute with a family of methods, each of them representing\n",
    "a kind of plot. For example, the same effects of the previous call to the *plot* method could be achieved by\n",
    "calling *plot.line()*. Following this model, bar plots can be produced by calling *plot.bar()* (vertical bars) or\n",
    "*plot.barh()* (horizontal bars):"
   ]
  },
  {
   "cell_type": "code",
   "execution_count": null,
   "metadata": {},
   "outputs": [],
   "source": [
    "# Create a Series object\n",
    "s = pd.Series(np.random.randint(30,100,5), index=['A','B','C','D','E'])\n",
    "# Plot vertical bars, respectively, using its plot attribute\n",
    "s.plot.bar(color='k')"
   ]
  },
  {
   "cell_type": "code",
   "execution_count": null,
   "metadata": {},
   "outputs": [],
   "source": [
    "# Plot horizontal bars\n",
    "s.plot.barh(color='k')"
   ]
  },
  {
   "cell_type": "markdown",
   "metadata": {},
   "source": [
    "Plotting bars from DataFrames produces groups of bars for each row. Each bar in a group \n",
    "represents a column (or a cell) in the corresponding row:"
   ]
  },
  {
   "cell_type": "code",
   "execution_count": null,
   "metadata": {},
   "outputs": [],
   "source": [
    "# Create a DataFrame\n",
    "df = pd.DataFrame(np.random.rand(6,4),\n",
    "                 index=['one','two','three','four','five','six'],\n",
    "                 columns=pd.Index(['A','B','C','D'],name='Categories'))\n",
    "# Plot using in plot attribute\n",
    "df.plot.bar()"
   ]
  },
  {
   "cell_type": "markdown",
   "metadata": {},
   "source": [
    "We can avoid the creation of such groups by passing the *stacked=True* argument:"
   ]
  },
  {
   "cell_type": "code",
   "execution_count": null,
   "metadata": {},
   "outputs": [],
   "source": [
    "df.plot.bar(stacked=True)"
   ]
  },
  {
   "cell_type": "markdown",
   "metadata": {},
   "source": [
    "## Pie plots\n",
    "\n",
    "Generating a pie plot with pandas is just about using the *plot.pie()* method:"
   ]
  },
  {
   "cell_type": "code",
   "execution_count": null,
   "metadata": {},
   "outputs": [],
   "source": [
    "# Create a Series object\n",
    "s = pd.Series([40,30,5,10,15], index=['A','B','C','D','E'], name='Distribution plot')\n",
    "# Create the pie plot\n",
    "s.plot.pie()"
   ]
  },
  {
   "cell_type": "markdown",
   "metadata": {},
   "source": [
    "## Box plots"
   ]
  },
  {
   "cell_type": "markdown",
   "metadata": {},
   "source": [
    "Given a sequence of values in a Series object, the box plot can be generated using the *plot.box()* method:"
   ]
  },
  {
   "cell_type": "code",
   "execution_count": null,
   "metadata": {},
   "outputs": [],
   "source": [
    "# Generating a sequence of values in a Series object\n",
    "s = pd.Series(np.random.randint(0, 80, size=100), name=\"Workers ages\")\n",
    "# Create the box plot\n",
    "s.plot.box()"
   ]
  },
  {
   "cell_type": "markdown",
   "metadata": {},
   "source": [
    "## Area plots\n",
    "\n",
    "Area plots are useful to compare two or more variables whose values change over some fixed interval. We \n",
    "can use DataFrames to represent such variables and, then, produce the area plot:"
   ]
  },
  {
   "cell_type": "code",
   "execution_count": null,
   "metadata": {},
   "outputs": [],
   "source": [
    "# Create the DataFrame\n",
    "df = pd.DataFrame(np.random.rand(20,3), columns=['2000','2010','2018'])\n",
    "# Generate the area graph\n",
    "df.plot.area()"
   ]
  },
  {
   "cell_type": "markdown",
   "metadata": {},
   "source": [
    "## Scatter plots\n",
    "\n",
    "Scatter plots allows to visualize the distribution of a set of points in a plane:"
   ]
  },
  {
   "cell_type": "code",
   "execution_count": null,
   "metadata": {},
   "outputs": [],
   "source": [
    "# Produce the set of points\n",
    "df = pd.DataFrame(np.random.randn(300, 2), columns=['A','B'])\n",
    "# Create a scatter plot\n",
    "df.plot.scatter(x='A', y='B')"
   ]
  },
  {
   "cell_type": "markdown",
   "metadata": {},
   "source": [
    "We can also create groups of points, using one color for each one:"
   ]
  },
  {
   "cell_type": "code",
   "execution_count": null,
   "metadata": {},
   "outputs": [],
   "source": [
    "# Produce the set of points\n",
    "df = pd.DataFrame(np.random.randn(300, 4), columns=['A','B','C','D'])\n",
    "# Keep the first plot\n",
    "ax = df.plot.scatter(x='A', y='B', label='Target A', color='k')\n",
    "# Use the previous plot to plot the other group\n",
    "df.plot.scatter(x='C', y='D', label='Target B', ax = ax)"
   ]
  },
  {
   "cell_type": "markdown",
   "metadata": {},
   "source": [
    "## Hexagonal bin plots\n",
    "\n",
    "When there are too many data points, a scatter plot may become polluted. Hexagonal bin plots\n",
    "come to simplify the visualization in such cases:"
   ]
  },
  {
   "cell_type": "code",
   "execution_count": null,
   "metadata": {},
   "outputs": [],
   "source": [
    "# Produce the set of points\n",
    "df = pd.DataFrame(np.random.randn(5000, 2), columns=['A','B'])\n",
    "# Create a scatter plot\n",
    "df.plot.hexbin(x='A', y='B', gridsize=20)"
   ]
  },
  {
   "cell_type": "markdown",
   "metadata": {},
   "source": [
    "## Histograms and density plots\n",
    "\n",
    "We can visualize the frequence of the values using histograms and density plots:"
   ]
  },
  {
   "cell_type": "code",
   "execution_count": null,
   "metadata": {},
   "outputs": [],
   "source": [
    "# Create values\n",
    "s = pd.Series(np.random.randn(1000))\n",
    "# Produce a histogram\n",
    "s.plot.hist()"
   ]
  },
  {
   "cell_type": "code",
   "execution_count": null,
   "metadata": {},
   "outputs": [],
   "source": [
    "# Produce a density plot\n",
    "s.plot.kde()"
   ]
  }
 ],
 "metadata": {
  "kernelspec": {
   "display_name": "Python 3",
   "language": "python",
   "name": "python3"
  },
  "language_info": {
   "codemirror_mode": {
    "name": "ipython",
    "version": 3
   },
   "file_extension": ".py",
   "mimetype": "text/x-python",
   "name": "python",
   "nbconvert_exporter": "python",
   "pygments_lexer": "ipython3",
   "version": "3.7.0"
  }
 },
 "nbformat": 4,
 "nbformat_minor": 2
}
